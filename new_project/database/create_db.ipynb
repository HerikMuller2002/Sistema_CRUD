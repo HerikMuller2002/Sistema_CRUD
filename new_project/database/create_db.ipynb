{
 "cells": [
  {
   "cell_type": "code",
   "execution_count": 56,
   "metadata": {},
   "outputs": [],
   "source": [
    "import pandas as pd\n",
    "from re import sub"
   ]
  },
  {
   "cell_type": "code",
   "execution_count": 57,
   "metadata": {},
   "outputs": [],
   "source": [
    "def preprocess(text):\n",
    "    text = text.lower().strip()\n",
    "    text = sub('[áàãâä]', 'a', sub('[éèêë]', 'e', sub('[íìîï]', 'i', sub('[óòõôö]', 'o', sub('[úùûü]', 'u', sub('[ç]','c',text))))))\n",
    "    text = sub(r'\\s+', ' ',text)\n",
    "    return text"
   ]
  },
  {
   "cell_type": "code",
   "execution_count": 58,
   "metadata": {},
   "outputs": [],
   "source": [
    "df_excel_pt = pd.read_excel('troubleshooting_equipament.xlsx')\n",
    "df_excel_en = pd.read_excel('troubleshooting_equipament_en.xlsx')"
   ]
  },
  {
   "cell_type": "code",
   "execution_count": 59,
   "metadata": {},
   "outputs": [],
   "source": [
    "df_pt = df_excel_pt.astype(str).apply(lambda x: x.apply(preprocess))\n",
    "df_en = df_excel_en.astype(str).apply(lambda x: x.apply(preprocess))"
   ]
  },
  {
   "cell_type": "code",
   "execution_count": 60,
   "metadata": {},
   "outputs": [
    {
     "data": {
      "text/html": [
       "<div>\n",
       "<style scoped>\n",
       "    .dataframe tbody tr th:only-of-type {\n",
       "        vertical-align: middle;\n",
       "    }\n",
       "\n",
       "    .dataframe tbody tr th {\n",
       "        vertical-align: top;\n",
       "    }\n",
       "\n",
       "    .dataframe thead th {\n",
       "        text-align: right;\n",
       "    }\n",
       "</style>\n",
       "<table border=\"1\" class=\"dataframe\">\n",
       "  <thead>\n",
       "    <tr style=\"text-align: right;\">\n",
       "      <th></th>\n",
       "      <th>id</th>\n",
       "      <th>pag</th>\n",
       "      <th>type</th>\n",
       "      <th>equipment</th>\n",
       "      <th>problem</th>\n",
       "      <th>cause</th>\n",
       "      <th>action</th>\n",
       "      <th></th>\n",
       "    </tr>\n",
       "  </thead>\n",
       "  <tbody>\n",
       "    <tr>\n",
       "      <th>0</th>\n",
       "      <td>0</td>\n",
       "      <td>1</td>\n",
       "      <td>mechanical</td>\n",
       "      <td>pumps</td>\n",
       "      <td>pump too hot and flashing off</td>\n",
       "      <td>unloading valve not working properly</td>\n",
       "      <td>repair or replace the unloading valve</td>\n",
       "      <td></td>\n",
       "    </tr>\n",
       "    <tr>\n",
       "      <th>1</th>\n",
       "      <td>1</td>\n",
       "      <td>1</td>\n",
       "      <td>mechanical</td>\n",
       "      <td>pumps</td>\n",
       "      <td>pump too hot and flashing off</td>\n",
       "      <td>excessive wear in pump</td>\n",
       "      <td>repair or replace the pump</td>\n",
       "      <td></td>\n",
       "    </tr>\n",
       "    <tr>\n",
       "      <th>2</th>\n",
       "      <td>2</td>\n",
       "      <td>1</td>\n",
       "      <td>mechanical</td>\n",
       "      <td>pumps</td>\n",
       "      <td>pump too hot and flashing off</td>\n",
       "      <td>relief valve set too high</td>\n",
       "      <td>adjust the relief valve</td>\n",
       "      <td></td>\n",
       "    </tr>\n",
       "    <tr>\n",
       "      <th>3</th>\n",
       "      <td>3</td>\n",
       "      <td>1</td>\n",
       "      <td>mechanical</td>\n",
       "      <td>pumps</td>\n",
       "      <td>pump too hot and flashing off</td>\n",
       "      <td>discharge valve throttled or closed</td>\n",
       "      <td>open the discharge valve</td>\n",
       "      <td></td>\n",
       "    </tr>\n",
       "    <tr>\n",
       "      <th>4</th>\n",
       "      <td>4</td>\n",
       "      <td>1</td>\n",
       "      <td>mechanical</td>\n",
       "      <td>pumps</td>\n",
       "      <td>pump churning up fluid and failing to discharg...</td>\n",
       "      <td>leak in suction pipe</td>\n",
       "      <td>inspect the line for broken or loose connectio...</td>\n",
       "      <td></td>\n",
       "    </tr>\n",
       "  </tbody>\n",
       "</table>\n",
       "</div>"
      ],
      "text/plain": [
       "  id pag        type equipment   \n",
       "0  0   1  mechanical     pumps  \\\n",
       "1  1   1  mechanical     pumps   \n",
       "2  2   1  mechanical     pumps   \n",
       "3  3   1  mechanical     pumps   \n",
       "4  4   1  mechanical     pumps   \n",
       "\n",
       "                                             problem   \n",
       "0                      pump too hot and flashing off  \\\n",
       "1                      pump too hot and flashing off   \n",
       "2                      pump too hot and flashing off   \n",
       "3                      pump too hot and flashing off   \n",
       "4  pump churning up fluid and failing to discharg...   \n",
       "\n",
       "                                  cause   \n",
       "0  unloading valve not working properly  \\\n",
       "1                excessive wear in pump   \n",
       "2             relief valve set too high   \n",
       "3   discharge valve throttled or closed   \n",
       "4                  leak in suction pipe   \n",
       "\n",
       "                                              action    \n",
       "0              repair or replace the unloading valve    \n",
       "1                         repair or replace the pump    \n",
       "2                            adjust the relief valve    \n",
       "3                           open the discharge valve    \n",
       "4  inspect the line for broken or loose connectio...    "
      ]
     },
     "execution_count": 60,
     "metadata": {},
     "output_type": "execute_result"
    }
   ],
   "source": [
    "# df_pt.head()\n",
    "df_en.head()"
   ]
  },
  {
   "attachments": {},
   "cell_type": "markdown",
   "metadata": {},
   "source": [
    "### problem"
   ]
  },
  {
   "cell_type": "code",
   "execution_count": 61,
   "metadata": {},
   "outputs": [
    {
     "data": {
      "text/html": [
       "<div>\n",
       "<style scoped>\n",
       "    .dataframe tbody tr th:only-of-type {\n",
       "        vertical-align: middle;\n",
       "    }\n",
       "\n",
       "    .dataframe tbody tr th {\n",
       "        vertical-align: top;\n",
       "    }\n",
       "\n",
       "    .dataframe thead th {\n",
       "        text-align: right;\n",
       "    }\n",
       "</style>\n",
       "<table border=\"1\" class=\"dataframe\">\n",
       "  <thead>\n",
       "    <tr style=\"text-align: right;\">\n",
       "      <th></th>\n",
       "      <th>issue_description_pt</th>\n",
       "      <th>issue_description_en</th>\n",
       "      <th>problem_id</th>\n",
       "    </tr>\n",
       "  </thead>\n",
       "  <tbody>\n",
       "    <tr>\n",
       "      <th>0</th>\n",
       "      <td>bomba muito quente e piscando</td>\n",
       "      <td>pump too hot and flashing off</td>\n",
       "      <td>0</td>\n",
       "    </tr>\n",
       "    <tr>\n",
       "      <th>1</th>\n",
       "      <td>bomba agitando o fluido e nao descarregando a ...</td>\n",
       "      <td>pump churning up fluid and failing to discharg...</td>\n",
       "      <td>1</td>\n",
       "    </tr>\n",
       "    <tr>\n",
       "      <th>2</th>\n",
       "      <td>bomba que agita o fluido e nao descarrega a ag...</td>\n",
       "      <td>pump churning up fluid and failing to discharg...</td>\n",
       "      <td>2</td>\n",
       "    </tr>\n",
       "    <tr>\n",
       "      <th>3</th>\n",
       "      <td>fortes vibracoes durante a operacao da bomba</td>\n",
       "      <td>heavy vibrations during the operation of the pump</td>\n",
       "      <td>3</td>\n",
       "    </tr>\n",
       "    <tr>\n",
       "      <th>4</th>\n",
       "      <td>vibracoes fortes durante a operacao da bomba (...</td>\n",
       "      <td>heavy vibrations during the operation of the p...</td>\n",
       "      <td>4</td>\n",
       "    </tr>\n",
       "  </tbody>\n",
       "</table>\n",
       "</div>"
      ],
      "text/plain": [
       "                                issue_description_pt   \n",
       "0                      bomba muito quente e piscando  \\\n",
       "1  bomba agitando o fluido e nao descarregando a ...   \n",
       "2  bomba que agita o fluido e nao descarrega a ag...   \n",
       "3       fortes vibracoes durante a operacao da bomba   \n",
       "4  vibracoes fortes durante a operacao da bomba (...   \n",
       "\n",
       "                                issue_description_en  problem_id  \n",
       "0                      pump too hot and flashing off           0  \n",
       "1  pump churning up fluid and failing to discharg...           1  \n",
       "2  pump churning up fluid and failing to discharg...           2  \n",
       "3  heavy vibrations during the operation of the pump           3  \n",
       "4  heavy vibrations during the operation of the p...           4  "
      ]
     },
     "metadata": {},
     "output_type": "display_data"
    },
    {
     "data": {
      "text/plain": [
       "(153, 3)"
      ]
     },
     "execution_count": 61,
     "metadata": {},
     "output_type": "execute_result"
    }
   ],
   "source": [
    "df_problems_pt = pd.DataFrame(df_pt[\"problem\"].unique(), columns=[\"issue_description_pt\"])\n",
    "df_problems_en = pd.DataFrame(df_en[\"problem\"].unique(), columns=[\"issue_description_en\"])\n",
    "df_problems = pd.concat([df_problems_pt, df_problems_en], axis=1)\n",
    "df_problems['problem_id'] = df_problems.index\n",
    "display(df_problems.head())\n",
    "df_problems.shape"
   ]
  },
  {
   "attachments": {},
   "cell_type": "markdown",
   "metadata": {},
   "source": [
    "### Cause"
   ]
  },
  {
   "cell_type": "code",
   "execution_count": 104,
   "metadata": {},
   "outputs": [
    {
     "data": {
      "text/html": [
       "<div>\n",
       "<style scoped>\n",
       "    .dataframe tbody tr th:only-of-type {\n",
       "        vertical-align: middle;\n",
       "    }\n",
       "\n",
       "    .dataframe tbody tr th {\n",
       "        vertical-align: top;\n",
       "    }\n",
       "\n",
       "    .dataframe thead th {\n",
       "        text-align: right;\n",
       "    }\n",
       "</style>\n",
       "<table border=\"1\" class=\"dataframe\">\n",
       "  <thead>\n",
       "    <tr style=\"text-align: right;\">\n",
       "      <th></th>\n",
       "      <th>cause_pt</th>\n",
       "      <th>cause_id</th>\n",
       "    </tr>\n",
       "  </thead>\n",
       "  <tbody>\n",
       "    <tr>\n",
       "      <th>0</th>\n",
       "      <td>a valvula de descarga nao esta funcionando cor...</td>\n",
       "      <td>0</td>\n",
       "    </tr>\n",
       "    <tr>\n",
       "      <th>1</th>\n",
       "      <td>desgaste excessivo na bomba</td>\n",
       "      <td>1</td>\n",
       "    </tr>\n",
       "    <tr>\n",
       "      <th>2</th>\n",
       "      <td>valvula de alivio ajustada muito alta</td>\n",
       "      <td>2</td>\n",
       "    </tr>\n",
       "    <tr>\n",
       "      <th>3</th>\n",
       "      <td>valvula de descarga estrangulada ou fechada</td>\n",
       "      <td>3</td>\n",
       "    </tr>\n",
       "    <tr>\n",
       "      <th>4</th>\n",
       "      <td>vazamento no tubo de succao</td>\n",
       "      <td>4</td>\n",
       "    </tr>\n",
       "  </tbody>\n",
       "</table>\n",
       "</div>"
      ],
      "text/plain": [
       "                                            cause_pt  cause_id\n",
       "0  a valvula de descarga nao esta funcionando cor...         0\n",
       "1                        desgaste excessivo na bomba         1\n",
       "2              valvula de alivio ajustada muito alta         2\n",
       "3        valvula de descarga estrangulada ou fechada         3\n",
       "4                        vazamento no tubo de succao         4"
      ]
     },
     "metadata": {},
     "output_type": "display_data"
    },
    {
     "data": {
      "text/plain": [
       "(483, 2)"
      ]
     },
     "execution_count": 104,
     "metadata": {},
     "output_type": "execute_result"
    }
   ],
   "source": [
    "df_causes = pd.DataFrame(df_pt[\"cause\"].unique(), columns=[\"cause_pt\"])\n",
    "df_causes['cause_id'] = df_causes.index\n",
    "display(df_causes.head())\n",
    "df_causes.shape"
   ]
  },
  {
   "cell_type": "code",
   "execution_count": 70,
   "metadata": {},
   "outputs": [],
   "source": [
    "df_causes.to_excel('aaa.xlsx')"
   ]
  },
  {
   "attachments": {},
   "cell_type": "markdown",
   "metadata": {},
   "source": [
    "### action"
   ]
  },
  {
   "cell_type": "code",
   "execution_count": 63,
   "metadata": {},
   "outputs": [
    {
     "data": {
      "text/html": [
       "<div>\n",
       "<style scoped>\n",
       "    .dataframe tbody tr th:only-of-type {\n",
       "        vertical-align: middle;\n",
       "    }\n",
       "\n",
       "    .dataframe tbody tr th {\n",
       "        vertical-align: top;\n",
       "    }\n",
       "\n",
       "    .dataframe thead th {\n",
       "        text-align: right;\n",
       "    }\n",
       "</style>\n",
       "<table border=\"1\" class=\"dataframe\">\n",
       "  <thead>\n",
       "    <tr style=\"text-align: right;\">\n",
       "      <th></th>\n",
       "      <th>resolution_action_pt</th>\n",
       "      <th>resolution_action_en</th>\n",
       "      <th>action_id</th>\n",
       "    </tr>\n",
       "  </thead>\n",
       "  <tbody>\n",
       "    <tr>\n",
       "      <th>0</th>\n",
       "      <td>reparar ou substituir a valvula de descarga</td>\n",
       "      <td>repair or replace the unloading valve</td>\n",
       "      <td>0</td>\n",
       "    </tr>\n",
       "    <tr>\n",
       "      <th>1</th>\n",
       "      <td>reparar ou substituir a bomba</td>\n",
       "      <td>repair or replace the pump</td>\n",
       "      <td>1</td>\n",
       "    </tr>\n",
       "    <tr>\n",
       "      <th>2</th>\n",
       "      <td>ajuste a valvula de alivio</td>\n",
       "      <td>adjust the relief valve</td>\n",
       "      <td>2</td>\n",
       "    </tr>\n",
       "    <tr>\n",
       "      <th>3</th>\n",
       "      <td>abrir a valvula de descarga</td>\n",
       "      <td>open the discharge valve</td>\n",
       "      <td>3</td>\n",
       "    </tr>\n",
       "    <tr>\n",
       "      <th>4</th>\n",
       "      <td>inspecionar a linha quanto a conexoes quebrada...</td>\n",
       "      <td>inspect the line for broken or loose connectio...</td>\n",
       "      <td>4</td>\n",
       "    </tr>\n",
       "  </tbody>\n",
       "</table>\n",
       "</div>"
      ],
      "text/plain": [
       "                                resolution_action_pt   \n",
       "0        reparar ou substituir a valvula de descarga  \\\n",
       "1                      reparar ou substituir a bomba   \n",
       "2                         ajuste a valvula de alivio   \n",
       "3                        abrir a valvula de descarga   \n",
       "4  inspecionar a linha quanto a conexoes quebrada...   \n",
       "\n",
       "                                resolution_action_en  action_id  \n",
       "0              repair or replace the unloading valve          0  \n",
       "1                         repair or replace the pump          1  \n",
       "2                            adjust the relief valve          2  \n",
       "3                           open the discharge valve          3  \n",
       "4  inspect the line for broken or loose connectio...          4  "
      ]
     },
     "metadata": {},
     "output_type": "display_data"
    },
    {
     "data": {
      "text/plain": [
       "(449, 3)"
      ]
     },
     "execution_count": 63,
     "metadata": {},
     "output_type": "execute_result"
    }
   ],
   "source": [
    "df_action_pt = pd.DataFrame(df_pt[\"action\"].unique(), columns=[\"resolution_action_pt\"])\n",
    "df_action_en = pd.DataFrame(df_en[\"action\"].unique(), columns=[\"resolution_action_en\"])\n",
    "df_action = pd.concat([df_action_pt, df_action_en], axis=1)\n",
    "df_action['action_id'] = df_action.index\n",
    "display(df_action.head())\n",
    "df_action.shape"
   ]
  },
  {
   "attachments": {},
   "cell_type": "markdown",
   "metadata": {},
   "source": [
    "### equipment"
   ]
  },
  {
   "cell_type": "code",
   "execution_count": 64,
   "metadata": {},
   "outputs": [
    {
     "data": {
      "text/html": [
       "<div>\n",
       "<style scoped>\n",
       "    .dataframe tbody tr th:only-of-type {\n",
       "        vertical-align: middle;\n",
       "    }\n",
       "\n",
       "    .dataframe tbody tr th {\n",
       "        vertical-align: top;\n",
       "    }\n",
       "\n",
       "    .dataframe thead th {\n",
       "        text-align: right;\n",
       "    }\n",
       "</style>\n",
       "<table border=\"1\" class=\"dataframe\">\n",
       "  <thead>\n",
       "    <tr style=\"text-align: right;\">\n",
       "      <th></th>\n",
       "      <th>equipment_name_pt</th>\n",
       "      <th>equipment_name_en</th>\n",
       "      <th>equipment_id</th>\n",
       "    </tr>\n",
       "  </thead>\n",
       "  <tbody>\n",
       "    <tr>\n",
       "      <th>0</th>\n",
       "      <td>bombas</td>\n",
       "      <td>pumps</td>\n",
       "      <td>0</td>\n",
       "    </tr>\n",
       "    <tr>\n",
       "      <th>1</th>\n",
       "      <td>rolamentos</td>\n",
       "      <td>bearings</td>\n",
       "      <td>1</td>\n",
       "    </tr>\n",
       "    <tr>\n",
       "      <th>2</th>\n",
       "      <td>valvulas</td>\n",
       "      <td>valves</td>\n",
       "      <td>2</td>\n",
       "    </tr>\n",
       "    <tr>\n",
       "      <th>3</th>\n",
       "      <td>acionamentos por corrente</td>\n",
       "      <td>chain drives</td>\n",
       "      <td>3</td>\n",
       "    </tr>\n",
       "    <tr>\n",
       "      <th>4</th>\n",
       "      <td>caixas de engrenagens</td>\n",
       "      <td>gear boxes</td>\n",
       "      <td>4</td>\n",
       "    </tr>\n",
       "  </tbody>\n",
       "</table>\n",
       "</div>"
      ],
      "text/plain": [
       "           equipment_name_pt equipment_name_en  equipment_id\n",
       "0                     bombas             pumps             0\n",
       "1                 rolamentos          bearings             1\n",
       "2                   valvulas            valves             2\n",
       "3  acionamentos por corrente      chain drives             3\n",
       "4      caixas de engrenagens        gear boxes             4"
      ]
     },
     "metadata": {},
     "output_type": "display_data"
    },
    {
     "data": {
      "text/plain": [
       "(15, 3)"
      ]
     },
     "execution_count": 64,
     "metadata": {},
     "output_type": "execute_result"
    }
   ],
   "source": [
    "df_equipment_pt = pd.DataFrame(df_pt[\"equipment\"].unique(), columns=[\"equipment_name_pt\"])\n",
    "df_equipment_en = pd.DataFrame(df_en[\"equipment\"].unique(), columns=[\"equipment_name_en\"])\n",
    "df_equipment = pd.concat([df_equipment_pt, df_equipment_en], axis=1)\n",
    "df_equipment['equipment_id'] = df_equipment.index\n",
    "display(df_equipment.head())\n",
    "df_equipment.shape"
   ]
  },
  {
   "attachments": {},
   "cell_type": "markdown",
   "metadata": {},
   "source": [
    "### troubleshooting"
   ]
  },
  {
   "cell_type": "code",
   "execution_count": 105,
   "metadata": {},
   "outputs": [
    {
     "data": {
      "text/html": [
       "<div>\n",
       "<style scoped>\n",
       "    .dataframe tbody tr th:only-of-type {\n",
       "        vertical-align: middle;\n",
       "    }\n",
       "\n",
       "    .dataframe tbody tr th {\n",
       "        vertical-align: top;\n",
       "    }\n",
       "\n",
       "    .dataframe thead th {\n",
       "        text-align: right;\n",
       "    }\n",
       "</style>\n",
       "<table border=\"1\" class=\"dataframe\">\n",
       "  <thead>\n",
       "    <tr style=\"text-align: right;\">\n",
       "      <th></th>\n",
       "      <th>type</th>\n",
       "      <th>equipment_id</th>\n",
       "      <th>problem_id</th>\n",
       "      <th>cause_id</th>\n",
       "      <th>action_id</th>\n",
       "    </tr>\n",
       "  </thead>\n",
       "  <tbody>\n",
       "    <tr>\n",
       "      <th>0</th>\n",
       "      <td>mecanico</td>\n",
       "      <td>1</td>\n",
       "      <td>1</td>\n",
       "      <td>1</td>\n",
       "      <td>1</td>\n",
       "    </tr>\n",
       "    <tr>\n",
       "      <th>1</th>\n",
       "      <td>mecanico</td>\n",
       "      <td>1</td>\n",
       "      <td>1</td>\n",
       "      <td>2</td>\n",
       "      <td>2</td>\n",
       "    </tr>\n",
       "    <tr>\n",
       "      <th>2</th>\n",
       "      <td>mecanico</td>\n",
       "      <td>1</td>\n",
       "      <td>1</td>\n",
       "      <td>3</td>\n",
       "      <td>3</td>\n",
       "    </tr>\n",
       "    <tr>\n",
       "      <th>3</th>\n",
       "      <td>mecanico</td>\n",
       "      <td>1</td>\n",
       "      <td>1</td>\n",
       "      <td>4</td>\n",
       "      <td>4</td>\n",
       "    </tr>\n",
       "    <tr>\n",
       "      <th>4</th>\n",
       "      <td>mecanico</td>\n",
       "      <td>1</td>\n",
       "      <td>2</td>\n",
       "      <td>5</td>\n",
       "      <td>5</td>\n",
       "    </tr>\n",
       "  </tbody>\n",
       "</table>\n",
       "</div>"
      ],
      "text/plain": [
       "       type  equipment_id  problem_id  cause_id  action_id\n",
       "0  mecanico             1           1         1          1\n",
       "1  mecanico             1           1         2          2\n",
       "2  mecanico             1           1         3          3\n",
       "3  mecanico             1           1         4          4\n",
       "4  mecanico             1           2         5          5"
      ]
     },
     "metadata": {},
     "output_type": "display_data"
    },
    {
     "data": {
      "text/plain": [
       "(536, 5)"
      ]
     },
     "execution_count": 105,
     "metadata": {},
     "output_type": "execute_result"
    }
   ],
   "source": [
    "# Criação do DataFrame para a tabela Troubleshooting\n",
    "df_troubleshooting = df_pt[['type', 'equipment', 'problem', 'cause', 'action']].copy()\n",
    "df_troubleshooting['equipment_id'] = df_troubleshooting['equipment'].map(df_equipment.set_index('equipment_name_pt')['equipment_id'])\n",
    "df_troubleshooting['problem_id'] = df_troubleshooting['problem'].map(df_problems.set_index('issue_description_pt')['problem_id'])\n",
    "df_troubleshooting['cause_id'] = df_troubleshooting['cause'].map(df_causes.set_index('cause_pt')['cause_id'])\n",
    "df_troubleshooting['action_id'] = df_troubleshooting['action'].map(df_action.set_index('resolution_action_pt')['action_id'])\n",
    "df_troubleshooting = df_troubleshooting[['type', 'equipment_id', 'problem_id', 'cause_id', 'action_id']]\n",
    "\n",
    "df_troubleshooting['equipment_id'] = df_troubleshooting['equipment_id'].astype(int)\n",
    "df_troubleshooting['problem_id'] = df_troubleshooting['problem_id'].astype(int)\n",
    "df_troubleshooting['cause_id'] = df_troubleshooting['cause_id'].astype(int)\n",
    "df_troubleshooting['action_id'] = df_troubleshooting['action_id'].astype(int)\n",
    "\n",
    "df_troubleshooting[['equipment_id', 'problem_id', 'cause_id', 'action_id']] = df_troubleshooting[['equipment_id', 'problem_id', 'cause_id', 'action_id']].applymap(lambda x: int(x) + 1)\n",
    "\n",
    "display(df_troubleshooting.head())\n",
    "df_troubleshooting.shape"
   ]
  },
  {
   "attachments": {},
   "cell_type": "markdown",
   "metadata": {},
   "source": [
    "### banco"
   ]
  },
  {
   "cell_type": "code",
   "execution_count": 106,
   "metadata": {},
   "outputs": [],
   "source": [
    "# Remover a coluna 'id' dos DataFrames\n",
    "df_problems = df_problems.drop('problem_id', axis=1)\n",
    "df_causes = df_causes.drop('cause_id', axis=1)\n",
    "df_action = df_action.drop('action_id', axis=1)\n",
    "df_equipment = df_equipment.drop('equipment_id', axis=1)"
   ]
  },
  {
   "cell_type": "code",
   "execution_count": null,
   "metadata": {},
   "outputs": [],
   "source": [
    "df_problems"
   ]
  },
  {
   "attachments": {},
   "cell_type": "markdown",
   "metadata": {},
   "source": [
    "### Mysql"
   ]
  },
  {
   "cell_type": "code",
   "execution_count": null,
   "metadata": {},
   "outputs": [],
   "source": [
    "import pymysql\n",
    "from sqlalchemy import create_engine\n",
    "\n",
    "# Configurações de conexão com o banco de dados MySQL\n",
    "host = 'localhost'\n",
    "port = 3306\n",
    "user = 'root'\n",
    "password = ''\n",
    "database = 'equipment_failures'\n",
    "\n",
    "# Cria a conexão com o banco de dados\n",
    "conn = pymysql.connect(\n",
    "    host=host,\n",
    "    port=port,\n",
    "    user=user,\n",
    "    password=password,\n",
    "    database=database\n",
    ")\n",
    "\n",
    "engine = create_engine(f'mysql+pymysql://{user}:{password}@{host}:{port}/{database}')\n",
    "\n",
    "df_problems.to_sql('problem', engine, if_exists='append', index=False)\n",
    "df_causes.to_sql('cause', engine, if_exists='append', index=False)\n",
    "df_action.to_sql('action', engine, if_exists='append', index=False)\n",
    "df_equipment.to_sql('equipment', engine, if_exists='append', index=False)\n",
    "\n",
    "df_troubleshooting.to_sql('troubleshooting', engine, if_exists='append', index=False)\n",
    "\n",
    "conn.close()\n"
   ]
  },
  {
   "attachments": {},
   "cell_type": "markdown",
   "metadata": {},
   "source": [
    "### Sqlite"
   ]
  },
  {
   "cell_type": "code",
   "execution_count": 109,
   "metadata": {},
   "outputs": [],
   "source": [
    "import sqlite3\n",
    "\n",
    "df_troubleshooting.columns = ['type','equipment_id', 'issue_id', 'cause_id', 'action_id']\n",
    "\n",
    "# Configurações de conexão com o banco de dados SQLite\n",
    "database_file = r'bd_test\\IndustrialTroubleshootDB.db'\n",
    "\n",
    "# Cria a conexão com o banco de dados\n",
    "conn = sqlite3.connect(database_file)\n",
    "\n",
    "# DataFrames para tabela problem, cause, action, equipment, troubleshooting\n",
    "df_problems.to_sql('issue', conn, if_exists='append', index=False)\n",
    "df_causes.to_sql('root_cause', conn, if_exists='append', index=False)\n",
    "df_action.to_sql('resolution', conn, if_exists='append', index=False)\n",
    "df_equipment.to_sql('equipment', conn, if_exists='append', index=False)\n",
    "df_troubleshooting.to_sql('troubleshooting', conn, if_exists='append', index=False)\n",
    "\n",
    "# Fecha a conexão com o banco de dados\n",
    "conn.close()"
   ]
  },
  {
   "cell_type": "code",
   "execution_count": null,
   "metadata": {},
   "outputs": [],
   "source": []
  }
 ],
 "metadata": {
  "kernelspec": {
   "display_name": ".venv",
   "language": "python",
   "name": "python3"
  },
  "language_info": {
   "codemirror_mode": {
    "name": "ipython",
    "version": 3
   },
   "file_extension": ".py",
   "mimetype": "text/x-python",
   "name": "python",
   "nbconvert_exporter": "python",
   "pygments_lexer": "ipython3",
   "version": "3.9.7"
  },
  "orig_nbformat": 4
 },
 "nbformat": 4,
 "nbformat_minor": 2
}
