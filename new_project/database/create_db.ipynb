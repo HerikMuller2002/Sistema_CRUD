{
 "cells": [
  {
   "cell_type": "code",
   "execution_count": null,
   "metadata": {},
   "outputs": [],
   "source": [
    "import pandas as pd\n",
    "from re import sub"
   ]
  },
  {
   "cell_type": "code",
   "execution_count": null,
   "metadata": {},
   "outputs": [],
   "source": [
    "def preprocess(text):\n",
    "    text = text.lower().strip()\n",
    "    text = sub('[áàãâä]', 'a', sub('[éèêë]', 'e', sub('[íìîï]', 'i', sub('[óòõôö]', 'o', sub('[úùûü]', 'u', sub('[ç]','c',text))))))\n",
    "    text = sub(r'\\s+', ' ',text)\n",
    "    return text"
   ]
  },
  {
   "cell_type": "code",
   "execution_count": null,
   "metadata": {},
   "outputs": [],
   "source": [
    "df_excel = pd.read_excel('troubleshooting_equipament.xlsx')\n",
    "df_excel.head()"
   ]
  },
  {
   "cell_type": "code",
   "execution_count": null,
   "metadata": {},
   "outputs": [],
   "source": [
    "df = df_excel.astype(str).apply(lambda x: x.apply(preprocess))"
   ]
  },
  {
   "attachments": {},
   "cell_type": "markdown",
   "metadata": {},
   "source": [
    "### problem"
   ]
  },
  {
   "cell_type": "code",
   "execution_count": null,
   "metadata": {},
   "outputs": [],
   "source": [
    "df_problems = pd.DataFrame(df[\"problem\"].unique(), columns=[\"problem\"])\n",
    "df_problems['problem_id'] = df_problems.index\n",
    "display(df_problems.head())\n",
    "df_problems.shape"
   ]
  },
  {
   "attachments": {},
   "cell_type": "markdown",
   "metadata": {},
   "source": [
    "### Cause"
   ]
  },
  {
   "cell_type": "code",
   "execution_count": null,
   "metadata": {},
   "outputs": [],
   "source": [
    "df_causes = pd.DataFrame(df[\"cause\"].unique(), columns=[\"cause\"])\n",
    "df_causes['cause_id'] = df_causes.index\n",
    "display(df_causes.head())\n",
    "df_causes.shape"
   ]
  },
  {
   "attachments": {},
   "cell_type": "markdown",
   "metadata": {},
   "source": [
    "### action"
   ]
  },
  {
   "cell_type": "code",
   "execution_count": null,
   "metadata": {},
   "outputs": [],
   "source": [
    "df_action = pd.DataFrame(df[\"action\"].unique(), columns=[\"action\"])\n",
    "df_action['action_id'] = df_action.index\n",
    "display(df_action.head())\n",
    "df_action.shape"
   ]
  },
  {
   "attachments": {},
   "cell_type": "markdown",
   "metadata": {},
   "source": [
    "### equipment"
   ]
  },
  {
   "cell_type": "code",
   "execution_count": null,
   "metadata": {},
   "outputs": [],
   "source": [
    "df_equipment = pd.DataFrame(df[\"equipment\"].unique(), columns=[\"equipment\"])\n",
    "df_equipment['equipment_id'] = df_equipment.index\n",
    "display(df_equipment.head())\n",
    "df_equipment.shape"
   ]
  },
  {
   "attachments": {},
   "cell_type": "markdown",
   "metadata": {},
   "source": [
    "### troubleshooting"
   ]
  },
  {
   "cell_type": "code",
   "execution_count": null,
   "metadata": {},
   "outputs": [],
   "source": [
    "# Criação do DataFrame para a tabela Troubleshooting\n",
    "df_troubleshooting = df[['type', 'equipment', 'problem', 'cause', 'action']].copy()\n",
    "df_troubleshooting['equipment_id'] = df_troubleshooting['equipment'].map(df_equipment.set_index('equipment')['equipment_id'])\n",
    "df_troubleshooting['problem_id'] = df_troubleshooting['problem'].map(df_problems.set_index('problem')['problem_id'])\n",
    "df_troubleshooting['cause_id'] = df_troubleshooting['cause'].map(df_causes.set_index('cause')['cause_id'])\n",
    "df_troubleshooting['action_id'] = df_troubleshooting['action'].map(df_action.set_index('action')['action_id'])\n",
    "df_troubleshooting = df_troubleshooting[['type', 'equipment_id', 'problem_id', 'cause_id', 'action_id']]\n",
    "\n",
    "df_troubleshooting['equipment_id'] = df_troubleshooting['equipment_id'].astype(int)\n",
    "df_troubleshooting['problem_id'] = df_troubleshooting['problem_id'].astype(int)\n",
    "df_troubleshooting['cause_id'] = df_troubleshooting['cause_id'].astype(int)\n",
    "df_troubleshooting['action_id'] = df_troubleshooting['action_id'].astype(int)\n",
    "\n",
    "df_troubleshooting[['equipment_id', 'problem_id', 'cause_id', 'action_id']] = df_troubleshooting[['equipment_id', 'problem_id', 'cause_id', 'action_id']].applymap(lambda x: int(x) + 1)\n",
    "\n",
    "display(df_troubleshooting.head())\n",
    "df_troubleshooting.shape"
   ]
  },
  {
   "attachments": {},
   "cell_type": "markdown",
   "metadata": {},
   "source": [
    "### banco"
   ]
  },
  {
   "cell_type": "code",
   "execution_count": null,
   "metadata": {},
   "outputs": [],
   "source": [
    "# Remover a coluna 'id' dos DataFrames\n",
    "df_problems = df_problems.drop('problem_id', axis=1)\n",
    "df_causes = df_causes.drop('cause_id', axis=1)\n",
    "df_action = df_action.drop('action_id', axis=1)\n",
    "df_equipment = df_equipment.drop('equipment_id', axis=1)"
   ]
  },
  {
   "cell_type": "code",
   "execution_count": null,
   "metadata": {},
   "outputs": [],
   "source": [
    "df_problems"
   ]
  },
  {
   "cell_type": "code",
   "execution_count": null,
   "metadata": {},
   "outputs": [],
   "source": [
    "import pymysql\n",
    "from sqlalchemy import create_engine\n",
    "\n",
    "# Configurações de conexão com o banco de dados MySQL\n",
    "host = 'localhost'\n",
    "port = 3306\n",
    "user = 'root'\n",
    "password = ''\n",
    "database = 'equipment_failures'\n",
    "\n",
    "# Cria a conexão com o banco de dados\n",
    "conn = pymysql.connect(\n",
    "    host=host,\n",
    "    port=port,\n",
    "    user=user,\n",
    "    password=password,\n",
    "    database=database\n",
    ")\n",
    "\n",
    "engine = create_engine(f'mysql+pymysql://{user}:{password}@{host}:{port}/{database}')\n",
    "\n",
    "df_problems.to_sql('problem', engine, if_exists='append', index=False)\n",
    "df_causes.to_sql('cause', engine, if_exists='append', index=False)\n",
    "df_action.to_sql('action', engine, if_exists='append', index=False)\n",
    "df_equipment.to_sql('equipment', engine, if_exists='append', index=False)\n",
    "\n",
    "df_troubleshooting.to_sql('troubleshooting', engine, if_exists='append', index=False)\n",
    "\n",
    "conn.close()\n"
   ]
  },
  {
   "cell_type": "code",
   "execution_count": null,
   "metadata": {},
   "outputs": [],
   "source": []
  }
 ],
 "metadata": {
  "kernelspec": {
   "display_name": ".venv",
   "language": "python",
   "name": "python3"
  },
  "language_info": {
   "codemirror_mode": {
    "name": "ipython",
    "version": 3
   },
   "file_extension": ".py",
   "mimetype": "text/x-python",
   "name": "python",
   "nbconvert_exporter": "python",
   "pygments_lexer": "ipython3",
   "version": "3.9.7"
  },
  "orig_nbformat": 4
 },
 "nbformat": 4,
 "nbformat_minor": 2
}
